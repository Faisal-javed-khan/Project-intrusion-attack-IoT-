{
 "cells": [
  {
   "cell_type": "code",
   "execution_count": 1,
   "id": "75fa667e",
   "metadata": {},
   "outputs": [],
   "source": [
    "import os\n",
    "import pandas as pd\n",
    "import glob\n",
    "from sklearn.preprocessing import LabelEncoder\n",
    "from sklearn.preprocessing import StandardScaler\n",
    "from keras.utils import to_categorical\n",
    "from tqdm import tqdm\n",
    "from sklearn.model_selection import train_test_split"
   ]
  },
  {
   "cell_type": "code",
   "execution_count": 2,
   "id": "4ffa944d",
   "metadata": {},
   "outputs": [],
   "source": [
    "# path of all csv files\n",
    "csv_files = glob.glob(os.getcwd()+\"*/*.csv\")"
   ]
  },
  {
   "cell_type": "code",
   "execution_count": 3,
   "id": "0c433893",
   "metadata": {},
   "outputs": [
    {
     "data": {
      "text/plain": [
       "169"
      ]
     },
     "execution_count": 3,
     "metadata": {},
     "output_type": "execute_result"
    }
   ],
   "source": [
    "len(csv_files)"
   ]
  },
  {
   "cell_type": "code",
   "execution_count": null,
   "id": "4c7fede8",
   "metadata": {},
   "outputs": [],
   "source": []
  },
  {
   "cell_type": "code",
   "execution_count": 4,
   "id": "0a66cfee",
   "metadata": {},
   "outputs": [],
   "source": [
    "from sklearn.model_selection import train_test_split\n",
    "\n",
    "def datagen(paths, test_size=0.1):\n",
    "    label_encoder = LabelEncoder()\n",
    "    scaler = StandardScaler()\n",
    "\n",
    "    for path in paths:\n",
    "        df = pd.read_csv(path)\n",
    "\n",
    "        # Labels and features extraction\n",
    "        labels = df['label']\n",
    "        features = df.iloc[:,:-1]\n",
    "\n",
    "        # Split the data into training and test sets\n",
    "        X_train, X_test, y_train, y_test = train_test_split(features, labels, test_size=test_size)\n",
    "\n",
    "        # Labels and features pre-processing\n",
    "        X_train = scaler.fit_transform(X_train)\n",
    "        X_train = X_train.reshape(X_train.shape[0], X_train.shape[1])\n",
    "        y_train = label_encoder.fit_transform(y_train)\n",
    "        y_train = to_categorical(y_train)\n",
    "\n",
    "        X_test = scaler.transform(X_test)\n",
    "        X_test = X_test.reshape(X_test.shape[0], X_test.shape[1])\n",
    "        y_test = label_encoder.transform(y_test)\n",
    "        y_test = to_categorical(y_test)\n",
    "\n",
    "\n",
    "        yield (X_train, y_train), (X_test, y_test)"
   ]
  },
  {
   "cell_type": "code",
   "execution_count": null,
   "id": "50f6e2b7",
   "metadata": {},
   "outputs": [],
   "source": []
  },
  {
   "cell_type": "code",
   "execution_count": null,
   "id": "9db784bb",
   "metadata": {},
   "outputs": [],
   "source": []
  },
  {
   "cell_type": "code",
   "execution_count": null,
   "id": "d5285f21",
   "metadata": {},
   "outputs": [],
   "source": []
  },
  {
   "cell_type": "code",
   "execution_count": 4,
   "id": "db79ec3c",
   "metadata": {},
   "outputs": [],
   "source": [
    "# from sklearn.model_selection import train_test_split\n",
    "\n",
    "# def datagen(paths, labels_to_pick, test_size=0.2):\n",
    "#     label_encoder = LabelEncoder()\n",
    "#     scaler = StandardScaler()\n",
    "\n",
    "#     for path in paths:\n",
    "#         df = pd.read_csv(path)\n",
    "\n",
    "#         # Filter rows based on the labels you want to pick\n",
    "#         df = df[df['label'].isin(labels_to_pick)]\n",
    "\n",
    "#         # Labels and features extraction\n",
    "#         labels = df['label']\n",
    "#         features = df.iloc[:,:-1]\n",
    "\n",
    "#         # Split the data into training and test sets\n",
    "#         X_train, X_test, y_train, y_test = train_test_split(features, labels, test_size=test_size)\n",
    "\n",
    "#         # Labels and features pre-processing\n",
    "#         X_train = scaler.fit_transform(X_train)\n",
    "#         X_train = X_train.reshape(X_train.shape[0], X_train.shape[1],1)\n",
    "#         y_train = label_encoder.fit_transform(y_train)\n",
    "#         y_train = to_categorical(y_train)\n",
    "\n",
    "#         X_test = scaler.transform(X_test)\n",
    "#         X_test = X_test.reshape(X_test.shape[0], X_test.shape[1],1)\n",
    "#         y_test = label_encoder.transform(y_test)\n",
    "#         y_test = to_categorical(y_test)\n",
    "\n",
    "\n",
    "#         yield (X_train, y_train), (X_test, y_test)\n",
    "\n",
    "# # Define the list of class labels you want to pick\n",
    "\n",
    "# labels_to_pick = {\n",
    "#     'DDoS-ICMP_Flood': 'DDoS',\n",
    "#     'DDoS-UDP_Flood': 'DDoS',\n",
    "#     'DDoS-TCP_Flood': 'DDoS',\n",
    "#     'DDoS-PSHACK_Flood': 'DDoS',\n",
    "#     'DDoS-SYN_Flood': 'DDoS',\n",
    "#     'DDoS-RSTFINFlood': 'DDoS',\n",
    "#     'DDoS-SynonymousIP_Flood': 'DDoS',\n",
    "#     'DDoS-UDP_Fragmentation': 'DDoS',\n",
    "#     'DDoS-ACK_Fragmentation': 'DDoS',\n",
    "#     'DDoS-ICMP_Fragmentation': 'DDoS',\n",
    "#     'DDoS-HTTP_Flood': 'DDoS',\n",
    "#     'DDoS-SlowLoris': 'DDoS',\n",
    "    \n",
    "#     'DoS-UDP_Flood' : 'DoS',\n",
    "#     'DoS-TCP_Flood' : 'DoS',\n",
    "#     'DoS-SYN_Flood' : 'DoS',\n",
    "#     'DoS-HTTP_Flood': 'DoS'\n",
    "# }"
   ]
  },
  {
   "cell_type": "code",
   "execution_count": 6,
   "id": "a1ff2505",
   "metadata": {},
   "outputs": [],
   "source": [
    "# define an object of custom dataloader\n",
    "\n",
    "dataloader = datagen(csv_files)"
   ]
  },
  {
   "cell_type": "code",
   "execution_count": null,
   "id": "526922a9",
   "metadata": {},
   "outputs": [],
   "source": []
  },
  {
   "cell_type": "code",
   "execution_count": null,
   "id": "e5f305ad",
   "metadata": {},
   "outputs": [],
   "source": []
  },
  {
   "cell_type": "code",
   "execution_count": null,
   "id": "e17d6902",
   "metadata": {},
   "outputs": [],
   "source": []
  },
  {
   "cell_type": "code",
   "execution_count": 7,
   "id": "2cd5f31b",
   "metadata": {},
   "outputs": [],
   "source": [
    "import matplotlib.pyplot as plt\n",
    "import seaborn as sns\n",
    "import pandas as pd"
   ]
  },
  {
   "cell_type": "code",
   "execution_count": 10,
   "id": "4f65093e",
   "metadata": {},
   "outputs": [
    {
     "data": {
      "image/png": "[encoded data removed]",
      "text/plain": [
       "<Figure size 640x480 with 1 Axes>"
      ]
     },
     "metadata": {},
     "output_type": "display_data"
    }
   ],
   "source": [
    "import matplotlib.pyplot as plt\n",
    "import seaborn as sns\n",
    "import pandas as pd\n",
    "\n",
    "# Assuming you want to visualize the distribution of labels in the training data\n",
    "(X_train, y_train), _ = next(dataloader)\n",
    "\n",
    "# Convert the training labels to a pandas Series\n",
    "labels = pd.Series(y_train.argmax(axis=1))\n",
    "\n",
    "# Example: Bar chart to visualize the distribution of labels in the training data\n",
    "sns.countplot(x=labels)\n",
    "plt.xlabel('Label')\n",
    "plt.ylabel('Count')\n",
    "plt.title('Label Distribution (Training Data)')\n",
    "plt.xticks(rotation=45)\n",
    "plt.show()"
   ]
  },
  {
   "cell_type": "code",
   "execution_count": null,
   "id": "6f9d6ef6",
   "metadata": {},
   "outputs": [],
   "source": []
  },
  {
   "cell_type": "code",
   "execution_count": null,
   "id": "a48a9fad",
   "metadata": {},
   "outputs": [],
   "source": []
  },
  {
   "cell_type": "code",
   "execution_count": null,
   "id": "c0724092",
   "metadata": {},
   "outputs": [],
   "source": []
  },
  {
   "cell_type": "code",
   "execution_count": null,
   "id": "6396eaaa",
   "metadata": {},
   "outputs": [],
   "source": []
  },
  {
   "cell_type": "code",
   "execution_count": null,
   "id": "0ff80fe0",
   "metadata": {},
   "outputs": [],
   "source": []
  },
  {
   "cell_type": "code",
   "execution_count": null,
   "id": "97f699a2",
   "metadata": {},
   "outputs": [],
   "source": []
  },
  {
   "cell_type": "code",
   "execution_count": null,
   "id": "a2c6f192",
   "metadata": {},
   "outputs": [],
   "source": []
  },
  {
   "cell_type": "code",
   "execution_count": null,
   "id": "db1e82be",
   "metadata": {},
   "outputs": [],
   "source": []
  },
  {
   "cell_type": "code",
   "execution_count": null,
   "id": "a45a8fe2",
   "metadata": {},
   "outputs": [],
   "source": []
  },
  {
   "cell_type": "code",
   "execution_count": 10,
   "id": "f60e9330",
   "metadata": {},
   "outputs": [],
   "source": [
    "# define your model\n",
    "import keras\n",
    "from keras.layers import Dense, Flatten, Conv1D, MaxPooling1D\n",
    "\n",
    "model = keras.Sequential()\n",
    "\n",
    "model.add(Conv1D(32, 3, activation = 'relu', input_shape = (46,1)))\n",
    "model.add(MaxPooling1D(2))\n",
    "model.add(Conv1D(32, 3, activation = 'relu'))\n",
    "model.add(MaxPooling1D(2))\n",
    "model.add(Conv1D(32, 3, activation = 'relu'))\n",
    "\n",
    "model.add(Flatten())\n",
    "\n",
    "model.add(Dense(128, activation = 'relu'))\n",
    "model.add(Dense(64, activation = 'relu'))\n",
    "model.add(Dense(16, activation = 'softmax'))"
   ]
  },
  {
   "cell_type": "code",
   "execution_count": 11,
   "id": "8610524e",
   "metadata": {},
   "outputs": [],
   "source": [
    "# compile your model\n",
    "model.compile(optimizer='adam', loss='categorical_crossentropy', metrics=['accuracy'])"
   ]
  },
  {
   "cell_type": "code",
   "execution_count": 12,
   "id": "e5f258dd",
   "metadata": {},
   "outputs": [
    {
     "name": "stderr",
     "output_type": "stream",
     "text": [
      "\r",
      "  0%|                                                                                           | 0/12 [00:00<?, ?it/s]"
     ]
    },
    {
     "name": "stdout",
     "output_type": "stream",
     "text": [
      "Training Started on file number 0 to 14\n",
      "Epoch 1/10\n",
      "2462/2462 [==============================] - 26s 10ms/step - loss: 0.1550 - accuracy: 0.9495 - val_loss: 0.0647 - val_accuracy: 0.9897\n",
      "Epoch 2/10\n",
      "2462/2462 [==============================] - 21s 9ms/step - loss: 0.0289 - accuracy: 0.9916 - val_loss: 0.0364 - val_accuracy: 0.9926\n",
      "Epoch 3/10\n",
      "2462/2462 [==============================] - 21s 9ms/step - loss: 0.0175 - accuracy: 0.9951 - val_loss: 0.0266 - val_accuracy: 0.9959\n",
      "Epoch 4/10\n",
      "2462/2462 [==============================] - 25s 10ms/step - loss: 0.0140 - accuracy: 0.9959 - val_loss: 0.0854 - val_accuracy: 0.9960\n",
      "Epoch 5/10\n",
      "2462/2462 [==============================] - 24s 10ms/step - loss: 0.0179 - accuracy: 0.9966 - val_loss: 0.0770 - val_accuracy: 0.9958\n",
      "Epoch 6/10\n",
      "2462/2462 [==============================] - 19s 8ms/step - loss: 0.0114 - accuracy: 0.9970 - val_loss: 0.0589 - val_accuracy: 0.9965\n",
      "Epoch 7/10\n",
      "2462/2462 [==============================] - 18s 7ms/step - loss: 0.0110 - accuracy: 0.9969 - val_loss: 0.0613 - val_accuracy: 0.9966\n",
      "Epoch 8/10\n",
      "2462/2462 [==============================] - 18s 7ms/step - loss: 0.0108 - accuracy: 0.9973 - val_loss: 0.0624 - val_accuracy: 0.9954\n",
      "Epoch 9/10\n",
      "2462/2462 [==============================] - 18s 7ms/step - loss: 0.0111 - accuracy: 0.9969 - val_loss: 0.0520 - val_accuracy: 0.9970\n",
      "Epoch 10/10\n",
      "2462/2462 [==============================] - 18s 7ms/step - loss: 0.0090 - accuracy: 0.9975 - val_loss: 0.0649 - val_accuracy: 0.9965\n",
      "1231/1231 [==============================] - 3s 2ms/step\n"
     ]
    },
    {
     "name": "stderr",
     "output_type": "stream",
     "text": [
      "\r",
      "  8%|██████▊                                                                           | 1/12 [03:36<39:39, 216.33s/it]"
     ]
    },
    {
     "name": "stdout",
     "output_type": "stream",
     "text": [
      "\n",
      "Precision: 0.9966, Recall: 0.9965, F1-score: 0.9965\n",
      "Training Started on file number 15 to 29\n",
      "Epoch 1/10\n",
      "3103/3103 [==============================] - 23s 7ms/step - loss: 0.0095 - accuracy: 0.9971 - val_loss: 0.0086 - val_accuracy: 0.9973\n",
      "Epoch 2/10\n",
      "3103/3103 [==============================] - 24s 8ms/step - loss: 0.0083 - accuracy: 0.9972 - val_loss: 0.0089 - val_accuracy: 0.9977\n",
      "Epoch 3/10\n",
      "3103/3103 [==============================] - 23s 8ms/step - loss: 0.0073 - accuracy: 0.9974 - val_loss: 0.0076 - val_accuracy: 0.9977\n",
      "Epoch 4/10\n",
      "3103/3103 [==============================] - 24s 8ms/step - loss: 0.0070 - accuracy: 0.9975 - val_loss: 0.0073 - val_accuracy: 0.9978\n",
      "Epoch 5/10\n",
      "3103/3103 [==============================] - 57583s 19s/step - loss: 0.0066 - accuracy: 0.9977 - val_loss: 0.0110 - val_accuracy: 0.9977\n",
      "Epoch 6/10\n",
      "3103/3103 [==============================] - 41s 13ms/step - loss: 0.0066 - accuracy: 0.9978 - val_loss: 0.0076 - val_accuracy: 0.9976\n",
      "Epoch 7/10\n",
      "3103/3103 [==============================] - 32s 10ms/step - loss: 0.0064 - accuracy: 0.9978 - val_loss: 0.0070 - val_accuracy: 0.9981\n",
      "Epoch 8/10\n",
      "3103/3103 [==============================] - 25s 8ms/step - loss: 0.0058 - accuracy: 0.9980 - val_loss: 0.0069 - val_accuracy: 0.9983\n",
      "Epoch 9/10\n",
      "3103/3103 [==============================] - 30s 10ms/step - loss: 0.0060 - accuracy: 0.9980 - val_loss: 0.0404 - val_accuracy: 0.9938\n",
      "Epoch 10/10\n",
      "3103/3103 [==============================] - 29s 9ms/step - loss: 0.0063 - accuracy: 0.9980 - val_loss: 0.0077 - val_accuracy: 0.9983\n",
      "1552/1552 [==============================] - 4s 3ms/step\n"
     ]
    },
    {
     "name": "stderr",
     "output_type": "stream",
     "text": [
      "\r",
      " 17%|████████████▎                                                             | 2/12 [16:07:40<94:45:49, 34114.92s/it]"
     ]
    },
    {
     "name": "stdout",
     "output_type": "stream",
     "text": [
      "\n",
      "Precision: 0.9983, Recall: 0.9983, F1-score: 0.9983\n",
      "Training Started on file number 30 to 44\n",
      "Epoch 1/10\n",
      "2606/2606 [==============================] - 23s 9ms/step - loss: 0.0296 - accuracy: 0.9973 - val_loss: 0.0194 - val_accuracy: 0.9978\n",
      "Epoch 2/10\n",
      "2606/2606 [==============================] - 24s 9ms/step - loss: 0.0104 - accuracy: 0.9978 - val_loss: 0.0188 - val_accuracy: 0.9976\n",
      "Epoch 3/10\n",
      "2606/2606 [==============================] - 28s 11ms/step - loss: 0.0096 - accuracy: 0.9978 - val_loss: 0.0262 - val_accuracy: 0.9975\n",
      "Epoch 4/10\n",
      "2606/2606 [==============================] - 23s 9ms/step - loss: 0.0083 - accuracy: 0.9980 - val_loss: 0.0157 - val_accuracy: 0.9979\n",
      "Epoch 5/10\n",
      "2606/2606 [==============================] - 23s 9ms/step - loss: 0.0083 - accuracy: 0.9980 - val_loss: 0.0206 - val_accuracy: 0.9980\n",
      "Epoch 6/10\n",
      "2606/2606 [==============================] - 22s 9ms/step - loss: 0.0054 - accuracy: 0.9981 - val_loss: 0.0229 - val_accuracy: 0.9977\n",
      "Epoch 7/10\n",
      "2606/2606 [==============================] - 26s 10ms/step - loss: 0.0091 - accuracy: 0.9980 - val_loss: 0.0235 - val_accuracy: 0.9976\n",
      "Epoch 8/10\n",
      "2606/2606 [==============================] - 22s 9ms/step - loss: 0.0057 - accuracy: 0.9983 - val_loss: 0.0159 - val_accuracy: 0.9979\n",
      "Epoch 9/10\n",
      "2606/2606 [==============================] - 27s 10ms/step - loss: 0.0059 - accuracy: 0.9983 - val_loss: 0.0175 - val_accuracy: 0.9977\n",
      "Epoch 10/10\n",
      "2606/2606 [==============================] - 28s 11ms/step - loss: 0.0059 - accuracy: 0.9983 - val_loss: 0.0246 - val_accuracy: 0.9978\n",
      "1303/1303 [==============================] - 4s 3ms/step\n"
     ]
    },
    {
     "name": "stderr",
     "output_type": "stream",
     "text": [
      "\r",
      " 25%|██████████████████▌                                                       | 3/12 [16:11:55<46:38:06, 18654.03s/it]"
     ]
    },
    {
     "name": "stdout",
     "output_type": "stream",
     "text": [
      "\n",
      "Precision: 0.9980, Recall: 0.9978, F1-score: 0.9978\n",
      "Training Started on file number 45 to 59\n",
      "Epoch 1/10\n",
      "2564/2564 [==============================] - 24s 9ms/step - loss: 0.0111 - accuracy: 0.9977 - val_loss: 0.0094 - val_accuracy: 0.9981\n",
      "Epoch 2/10\n",
      "2564/2564 [==============================] - 26s 10ms/step - loss: 0.0075 - accuracy: 0.9980 - val_loss: 0.0131 - val_accuracy: 0.9979\n",
      "Epoch 3/10\n",
      "2564/2564 [==============================] - 25s 10ms/step - loss: 0.0062 - accuracy: 0.9981 - val_loss: 0.0089 - val_accuracy: 0.9983\n",
      "Epoch 4/10\n",
      "2564/2564 [==============================] - 23s 9ms/step - loss: 0.0051 - accuracy: 0.9982 - val_loss: 0.0119 - val_accuracy: 0.9980\n",
      "Epoch 5/10\n",
      "2564/2564 [==============================] - 23s 9ms/step - loss: 0.0063 - accuracy: 0.9983 - val_loss: 0.0128 - val_accuracy: 0.9978\n",
      "Epoch 6/10\n",
      "2564/2564 [==============================] - 24s 9ms/step - loss: 0.0053 - accuracy: 0.9982 - val_loss: 0.0076 - val_accuracy: 0.9981\n",
      "Epoch 7/10\n",
      "2564/2564 [==============================] - 22s 9ms/step - loss: 0.0050 - accuracy: 0.9984 - val_loss: 0.0094 - val_accuracy: 0.9979\n",
      "Epoch 8/10\n",
      "2564/2564 [==============================] - 23s 9ms/step - loss: 0.0050 - accuracy: 0.9985 - val_loss: 0.0124 - val_accuracy: 0.9976\n",
      "Epoch 9/10\n",
      "2564/2564 [==============================] - 23s 9ms/step - loss: 0.0064 - accuracy: 0.9984 - val_loss: 0.0122 - val_accuracy: 0.9977\n",
      "Epoch 10/10\n",
      "2564/2564 [==============================] - 23s 9ms/step - loss: 0.0072 - accuracy: 0.9984 - val_loss: 0.0146 - val_accuracy: 0.9978\n",
      "1282/1282 [==============================] - 4s 3ms/step\n"
     ]
    },
    {
     "name": "stderr",
     "output_type": "stream",
     "text": [
      "\r",
      " 33%|████████████████████████▋                                                 | 4/12 [16:16:00<25:18:09, 11386.25s/it]"
     ]
    },
    {
     "name": "stdout",
     "output_type": "stream",
     "text": [
      "\n",
      "Precision: 0.9980, Recall: 0.9978, F1-score: 0.9978\n",
      "Training Started on file number 60 to 74\n",
      "Epoch 1/10\n",
      "2704/2704 [==============================] - 25s 9ms/step - loss: 0.0086 - accuracy: 0.9979 - val_loss: 0.0113 - val_accuracy: 0.9977\n",
      "Epoch 2/10\n",
      "2704/2704 [==============================] - 24s 9ms/step - loss: 0.0067 - accuracy: 0.9980 - val_loss: 0.0166 - val_accuracy: 0.9975\n",
      "Epoch 3/10\n",
      "2704/2704 [==============================] - 26s 10ms/step - loss: 0.0053 - accuracy: 0.9982 - val_loss: 0.0098 - val_accuracy: 0.9977\n",
      "Epoch 4/10\n",
      "2704/2704 [==============================] - 32s 12ms/step - loss: 0.0056 - accuracy: 0.9982 - val_loss: 0.0124 - val_accuracy: 0.9974\n",
      "Epoch 5/10\n",
      "2704/2704 [==============================] - 35s 13ms/step - loss: 0.0051 - accuracy: 0.9983 - val_loss: 0.0213 - val_accuracy: 0.9979\n",
      "Epoch 6/10\n",
      "2704/2704 [==============================] - 28s 10ms/step - loss: 0.0060 - accuracy: 0.9983 - val_loss: 0.0196 - val_accuracy: 0.9978\n",
      "Epoch 7/10\n",
      "2704/2704 [==============================] - 45s 17ms/step - loss: 0.0046 - accuracy: 0.9984 - val_loss: 0.0201 - val_accuracy: 0.9980\n",
      "Epoch 8/10\n",
      "2704/2704 [==============================] - 39s 15ms/step - loss: 0.0046 - accuracy: 0.9985 - val_loss: 0.0157 - val_accuracy: 0.9976\n",
      "Epoch 9/10\n",
      "2704/2704 [==============================] - 28s 10ms/step - loss: 0.0054 - accuracy: 0.9983 - val_loss: 0.0176 - val_accuracy: 0.9975\n",
      "Epoch 10/10\n",
      "2704/2704 [==============================] - 23s 8ms/step - loss: 0.0050 - accuracy: 0.9985 - val_loss: 0.0320 - val_accuracy: 0.9981\n",
      "1352/1352 [==============================] - 4s 3ms/step\n"
     ]
    },
    {
     "name": "stderr",
     "output_type": "stream",
     "text": [
      "\r",
      " 42%|███████████████████████████████▎                                           | 5/12 [16:21:13<14:22:31, 7393.09s/it]"
     ]
    },
    {
     "name": "stdout",
     "output_type": "stream",
     "text": [
      "\n",
      "Precision: 0.9981, Recall: 0.9981, F1-score: 0.9981\n",
      "Training Started on file number 75 to 89\n",
      "Epoch 1/10\n",
      "2635/2635 [==============================] - 25s 10ms/step - loss: 0.0077 - accuracy: 0.9979 - val_loss: 0.0110 - val_accuracy: 0.9977\n",
      "Epoch 2/10\n",
      "2635/2635 [==============================] - 24s 9ms/step - loss: 0.0076 - accuracy: 0.9982 - val_loss: 0.0063 - val_accuracy: 0.9982\n",
      "Epoch 3/10\n",
      "2635/2635 [==============================] - 22s 8ms/step - loss: 0.0057 - accuracy: 0.9983 - val_loss: 0.0080 - val_accuracy: 0.9977\n",
      "Epoch 4/10\n",
      "2635/2635 [==============================] - 22s 8ms/step - loss: 0.0057 - accuracy: 0.9981 - val_loss: 0.0095 - val_accuracy: 0.9976\n",
      "Epoch 5/10\n",
      "2635/2635 [==============================] - 25s 10ms/step - loss: 0.0053 - accuracy: 0.9983 - val_loss: 0.0082 - val_accuracy: 0.9981\n",
      "Epoch 6/10\n",
      "2635/2635 [==============================] - 24s 9ms/step - loss: 0.0055 - accuracy: 0.9984 - val_loss: 0.0069 - val_accuracy: 0.9980\n",
      "Epoch 7/10\n",
      "2635/2635 [==============================] - 26s 10ms/step - loss: 0.0047 - accuracy: 0.9984 - val_loss: 0.0073 - val_accuracy: 0.9982\n",
      "Epoch 8/10\n",
      "2635/2635 [==============================] - 23s 9ms/step - loss: 0.0076 - accuracy: 0.9982 - val_loss: 0.0082 - val_accuracy: 0.9978\n",
      "Epoch 9/10\n",
      "2635/2635 [==============================] - 25s 9ms/step - loss: 0.0042 - accuracy: 0.9985 - val_loss: 0.0072 - val_accuracy: 0.9983\n",
      "Epoch 10/10\n",
      "2635/2635 [==============================] - 22s 8ms/step - loss: 0.0046 - accuracy: 0.9985 - val_loss: 0.0112 - val_accuracy: 0.9980\n",
      "1318/1318 [==============================] - 3s 3ms/step\n"
     ]
    },
    {
     "name": "stderr",
     "output_type": "stream",
     "text": [
      "\r",
      " 50%|██████████████████████████████████████                                      | 6/12 [16:25:19<8:16:17, 4962.96s/it]"
     ]
    },
    {
     "name": "stdout",
     "output_type": "stream",
     "text": [
      "\n",
      "Precision: 0.9981, Recall: 0.9980, F1-score: 0.9981\n",
      "Training Started on file number 90 to 104\n",
      "Epoch 1/10\n",
      "2568/2568 [==============================] - 26s 10ms/step - loss: 0.0136 - accuracy: 0.9980 - val_loss: 0.0058 - val_accuracy: 0.9981\n",
      "Epoch 2/10\n",
      "2568/2568 [==============================] - 25s 10ms/step - loss: 0.0138 - accuracy: 0.9981 - val_loss: 0.0070 - val_accuracy: 0.9980\n",
      "Epoch 3/10\n",
      "2568/2568 [==============================] - 23s 9ms/step - loss: 0.0053 - accuracy: 0.9982 - val_loss: 0.0059 - val_accuracy: 0.9981\n",
      "Epoch 4/10\n",
      "2568/2568 [==============================] - 23s 9ms/step - loss: 0.0057 - accuracy: 0.9984 - val_loss: 0.0318 - val_accuracy: 0.9981\n",
      "Epoch 5/10\n",
      "2568/2568 [==============================] - 23s 9ms/step - loss: 0.0131 - accuracy: 0.9982 - val_loss: 0.0064 - val_accuracy: 0.9977\n",
      "Epoch 6/10\n",
      "2568/2568 [==============================] - 26s 10ms/step - loss: 0.0039 - accuracy: 0.9985 - val_loss: 0.0102 - val_accuracy: 0.9981\n",
      "Epoch 7/10\n",
      "2568/2568 [==============================] - 24s 9ms/step - loss: 0.0101 - accuracy: 0.9983 - val_loss: 0.0085 - val_accuracy: 0.9980\n",
      "Epoch 8/10\n",
      "2568/2568 [==============================] - 23s 9ms/step - loss: 0.0043 - accuracy: 0.9985 - val_loss: 0.0070 - val_accuracy: 0.9981\n",
      "Epoch 9/10\n",
      "2568/2568 [==============================] - 22s 9ms/step - loss: 0.0048 - accuracy: 0.9984 - val_loss: 0.0080 - val_accuracy: 0.9981\n",
      "Epoch 10/10\n",
      "2568/2568 [==============================] - 23s 9ms/step - loss: 0.0059 - accuracy: 0.9984 - val_loss: 0.0085 - val_accuracy: 0.9979\n",
      "1284/1284 [==============================] - 4s 3ms/step\n"
     ]
    },
    {
     "name": "stderr",
     "output_type": "stream",
     "text": [
      "\r",
      " 58%|████████████████████████████████████████████▎                               | 7/12 [16:29:25<4:45:04, 3420.88s/it]"
     ]
    },
    {
     "name": "stdout",
     "output_type": "stream",
     "text": [
      "\n",
      "Precision: 0.9978, Recall: 0.9979, F1-score: 0.9978\n",
      "Training Started on file number 105 to 119\n",
      "Epoch 1/10\n",
      "2776/2776 [==============================] - 26s 9ms/step - loss: 0.0072 - accuracy: 0.9977 - val_loss: 0.0072 - val_accuracy: 0.9980\n",
      "Epoch 2/10\n",
      "2776/2776 [==============================] - 26s 9ms/step - loss: 0.0066 - accuracy: 0.9979 - val_loss: 0.0088 - val_accuracy: 0.9980\n",
      "Epoch 3/10\n",
      "2776/2776 [==============================] - 23s 8ms/step - loss: 0.0110 - accuracy: 0.9980 - val_loss: 0.0075 - val_accuracy: 0.9979\n",
      "Epoch 4/10\n",
      "2776/2776 [==============================] - 23s 8ms/step - loss: 0.0054 - accuracy: 0.9982 - val_loss: 0.0067 - val_accuracy: 0.9981\n",
      "Epoch 5/10\n",
      "2776/2776 [==============================] - 23s 8ms/step - loss: 0.0055 - accuracy: 0.9981 - val_loss: 0.0081 - val_accuracy: 0.9982\n",
      "Epoch 6/10\n",
      "2776/2776 [==============================] - 23s 8ms/step - loss: 0.0048 - accuracy: 0.9982 - val_loss: 0.0092 - val_accuracy: 0.9978\n",
      "Epoch 7/10\n",
      "2776/2776 [==============================] - 22s 8ms/step - loss: 0.0086 - accuracy: 0.9982 - val_loss: 0.0088 - val_accuracy: 0.9980\n",
      "Epoch 8/10\n",
      "2776/2776 [==============================] - 23s 8ms/step - loss: 0.0065 - accuracy: 0.9983 - val_loss: 0.0111 - val_accuracy: 0.9978\n",
      "Epoch 9/10\n",
      "2776/2776 [==============================] - 28s 10ms/step - loss: 0.0051 - accuracy: 0.9982 - val_loss: 0.0080 - val_accuracy: 0.9980\n",
      "Epoch 10/10\n",
      "2776/2776 [==============================] - 26s 9ms/step - loss: 0.0055 - accuracy: 0.9982 - val_loss: 0.0063 - val_accuracy: 0.9981\n",
      "1388/1388 [==============================] - 4s 3ms/step\n"
     ]
    },
    {
     "name": "stderr",
     "output_type": "stream",
     "text": [
      "\r",
      " 67%|██████████████████████████████████████████████████▋                         | 8/12 [16:33:35<2:40:46, 2411.63s/it]"
     ]
    },
    {
     "name": "stdout",
     "output_type": "stream",
     "text": [
      "\n",
      "Precision: 0.9983, Recall: 0.9981, F1-score: 0.9982\n",
      "Training Started on file number 120 to 134\n",
      "Epoch 1/10\n",
      "2564/2564 [==============================] - 21s 8ms/step - loss: 0.0148 - accuracy: 0.9979 - val_loss: 0.1107 - val_accuracy: 0.9976\n",
      "Epoch 2/10\n",
      "2564/2564 [==============================] - 21s 8ms/step - loss: 0.0107 - accuracy: 0.9980 - val_loss: 0.1351 - val_accuracy: 0.9978\n",
      "Epoch 3/10\n",
      "2564/2564 [==============================] - 21s 8ms/step - loss: 0.0093 - accuracy: 0.9982 - val_loss: 0.0486 - val_accuracy: 0.9980\n",
      "Epoch 4/10\n",
      "2564/2564 [==============================] - 22s 9ms/step - loss: 0.0060 - accuracy: 0.9982 - val_loss: 0.0537 - val_accuracy: 0.9973\n",
      "Epoch 5/10\n",
      "2564/2564 [==============================] - 21s 8ms/step - loss: 0.0048 - accuracy: 0.9983 - val_loss: 0.0667 - val_accuracy: 0.9975\n",
      "Epoch 6/10\n",
      "2564/2564 [==============================] - 21s 8ms/step - loss: 0.0051 - accuracy: 0.9983 - val_loss: 0.0960 - val_accuracy: 0.9974\n",
      "Epoch 7/10\n",
      "2564/2564 [==============================] - 21s 8ms/step - loss: 0.0111 - accuracy: 0.9980 - val_loss: 0.2421 - val_accuracy: 0.9975\n",
      "Epoch 8/10\n",
      "2564/2564 [==============================] - 21s 8ms/step - loss: 0.0139 - accuracy: 0.9983 - val_loss: 0.1063 - val_accuracy: 0.9979\n",
      "Epoch 9/10\n",
      "2564/2564 [==============================] - 22s 8ms/step - loss: 0.0071 - accuracy: 0.9983 - val_loss: 0.0580 - val_accuracy: 0.9978\n",
      "Epoch 10/10\n",
      "2564/2564 [==============================] - 22s 9ms/step - loss: 0.0059 - accuracy: 0.9983 - val_loss: 0.1001 - val_accuracy: 0.9978\n",
      "1282/1282 [==============================] - 3s 3ms/step\n"
     ]
    },
    {
     "name": "stderr",
     "output_type": "stream",
     "text": [
      "\r",
      " 75%|█████████████████████████████████████████████████████████                   | 9/12 [16:37:16<1:26:19, 1726.58s/it]"
     ]
    },
    {
     "name": "stdout",
     "output_type": "stream",
     "text": [
      "\n",
      "Precision: 0.9979, Recall: 0.9978, F1-score: 0.9978\n",
      "Training Started on file number 135 to 149\n",
      "Epoch 1/10\n",
      "2831/2831 [==============================] - 23s 8ms/step - loss: 0.0090 - accuracy: 0.9979 - val_loss: 0.0326 - val_accuracy: 0.9979\n",
      "Epoch 2/10\n",
      "2831/2831 [==============================] - 23s 8ms/step - loss: 0.0063 - accuracy: 0.9980 - val_loss: 0.0106 - val_accuracy: 0.9978\n",
      "Epoch 3/10\n",
      "2831/2831 [==============================] - 23s 8ms/step - loss: 0.0085 - accuracy: 0.9979 - val_loss: 0.0120 - val_accuracy: 0.9981\n",
      "Epoch 4/10\n",
      "2831/2831 [==============================] - 23s 8ms/step - loss: 0.0059 - accuracy: 0.9981 - val_loss: 0.0178 - val_accuracy: 0.9982\n",
      "Epoch 5/10\n",
      "2831/2831 [==============================] - 23s 8ms/step - loss: 0.0071 - accuracy: 0.9983 - val_loss: 0.0082 - val_accuracy: 0.9978\n",
      "Epoch 6/10\n",
      "2831/2831 [==============================] - 23s 8ms/step - loss: 0.0078 - accuracy: 0.9981 - val_loss: 0.0063 - val_accuracy: 0.9979\n",
      "Epoch 7/10\n",
      "2831/2831 [==============================] - 23s 8ms/step - loss: 0.0053 - accuracy: 0.9982 - val_loss: 0.0072 - val_accuracy: 0.9981\n",
      "Epoch 8/10\n",
      "2831/2831 [==============================] - 29s 10ms/step - loss: 0.0051 - accuracy: 0.9983 - val_loss: 0.0070 - val_accuracy: 0.9979\n",
      "Epoch 9/10\n",
      "2831/2831 [==============================] - 43s 15ms/step - loss: 0.0057 - accuracy: 0.9981 - val_loss: 0.0135 - val_accuracy: 0.9978\n",
      "Epoch 10/10\n",
      "2831/2831 [==============================] - 32s 11ms/step - loss: 0.0059 - accuracy: 0.9982 - val_loss: 0.0072 - val_accuracy: 0.9979\n",
      "1416/1416 [==============================] - 5s 4ms/step\n"
     ]
    },
    {
     "name": "stderr",
     "output_type": "stream",
     "text": [
      "\r",
      " 83%|████████████████████████████████████████████████████████████████▏            | 10/12 [16:41:48<42:35, 1277.80s/it]"
     ]
    },
    {
     "name": "stdout",
     "output_type": "stream",
     "text": [
      "\n",
      "Precision: 0.9979, Recall: 0.9979, F1-score: 0.9979\n",
      "Training Started on file number 150 to 164\n",
      "Epoch 1/10\n",
      "2501/2501 [==============================] - 23s 9ms/step - loss: 0.0080 - accuracy: 0.9978 - val_loss: 0.2394 - val_accuracy: 0.9980\n",
      "Epoch 2/10\n",
      "2501/2501 [==============================] - 22s 9ms/step - loss: 0.0079 - accuracy: 0.9981 - val_loss: 0.0067 - val_accuracy: 0.9985\n",
      "Epoch 3/10\n",
      "2501/2501 [==============================] - 21s 9ms/step - loss: 0.0060 - accuracy: 0.9981 - val_loss: 0.0064 - val_accuracy: 0.9981\n",
      "Epoch 4/10\n",
      "2501/2501 [==============================] - 27s 11ms/step - loss: 0.0056 - accuracy: 0.9981 - val_loss: 0.0164 - val_accuracy: 0.9979\n",
      "Epoch 5/10\n",
      "2501/2501 [==============================] - 31s 12ms/step - loss: 0.0097 - accuracy: 0.9980 - val_loss: 0.0345 - val_accuracy: 0.9980\n",
      "Epoch 6/10\n",
      "2501/2501 [==============================] - 25s 10ms/step - loss: 0.0067 - accuracy: 0.9980 - val_loss: 0.1185 - val_accuracy: 0.9984\n",
      "Epoch 7/10\n",
      "2501/2501 [==============================] - 26s 10ms/step - loss: 0.0057 - accuracy: 0.9981 - val_loss: 0.0823 - val_accuracy: 0.9987\n",
      "Epoch 8/10\n",
      "2501/2501 [==============================] - 24s 10ms/step - loss: 0.0051 - accuracy: 0.9983 - val_loss: 0.1421 - val_accuracy: 0.9985\n",
      "Epoch 9/10\n",
      "2501/2501 [==============================] - 25s 10ms/step - loss: 0.0089 - accuracy: 0.9981 - val_loss: 0.0115 - val_accuracy: 0.9984\n",
      "Epoch 10/10\n",
      "2501/2501 [==============================] - 30s 12ms/step - loss: 0.0061 - accuracy: 0.9980 - val_loss: 0.0067 - val_accuracy: 0.9979\n",
      "1251/1251 [==============================] - 4s 3ms/step\n"
     ]
    },
    {
     "name": "stderr",
     "output_type": "stream",
     "text": [
      "\r",
      " 92%|███████████████████████████████████████████████████████████████████████▌      | 11/12 [16:46:10<16:06, 966.69s/it]"
     ]
    },
    {
     "name": "stdout",
     "output_type": "stream",
     "text": [
      "\n",
      "Precision: 0.9979, Recall: 0.9979, F1-score: 0.9978\n",
      "Training Started on file number 165 to 179\n",
      "Epoch 1/10\n",
      "2688/2688 [==============================] - 27s 10ms/step - loss: 0.0088 - accuracy: 0.9975 - val_loss: 0.0094 - val_accuracy: 0.9979\n",
      "Epoch 2/10\n",
      "2688/2688 [==============================] - 27s 10ms/step - loss: 0.0083 - accuracy: 0.9979 - val_loss: 0.0054 - val_accuracy: 0.9979\n",
      "Epoch 3/10\n",
      "2688/2688 [==============================] - 26s 10ms/step - loss: 0.0081 - accuracy: 0.9980 - val_loss: 0.0054 - val_accuracy: 0.9981\n",
      "Epoch 4/10\n",
      "2688/2688 [==============================] - 26s 10ms/step - loss: 0.0073 - accuracy: 0.9977 - val_loss: 0.0069 - val_accuracy: 0.9981\n",
      "Epoch 5/10\n",
      "2688/2688 [==============================] - 23s 9ms/step - loss: 0.0095 - accuracy: 0.9977 - val_loss: 0.0051 - val_accuracy: 0.9983\n",
      "Epoch 6/10\n",
      "2688/2688 [==============================] - 24s 9ms/step - loss: 0.0102 - accuracy: 0.9980 - val_loss: 0.0081 - val_accuracy: 0.9980\n",
      "Epoch 7/10\n",
      "2688/2688 [==============================] - 22s 8ms/step - loss: 0.0069 - accuracy: 0.9981 - val_loss: 0.0057 - val_accuracy: 0.9982\n",
      "Epoch 8/10\n",
      "2688/2688 [==============================] - 27s 10ms/step - loss: 0.0083 - accuracy: 0.9981 - val_loss: 0.0061 - val_accuracy: 0.9983\n",
      "Epoch 9/10\n",
      "2688/2688 [==============================] - 26s 10ms/step - loss: 0.0066 - accuracy: 0.9979 - val_loss: 0.0064 - val_accuracy: 0.9981\n",
      "Epoch 10/10\n",
      "2688/2688 [==============================] - 25s 9ms/step - loss: 0.0094 - accuracy: 0.9978 - val_loss: 0.0164 - val_accuracy: 0.9978\n",
      "1344/1344 [==============================] - 4s 3ms/step\n"
     ]
    },
    {
     "name": "stderr",
     "output_type": "stream",
     "text": [
      "100%|█████████████████████████████████████████████████████████████████████████████| 12/12 [16:50:33<00:00, 5052.75s/it]"
     ]
    },
    {
     "name": "stdout",
     "output_type": "stream",
     "text": [
      "\n",
      "Precision: 0.9980, Recall: 0.9978, F1-score: 0.9979\n"
     ]
    },
    {
     "name": "stderr",
     "output_type": "stream",
     "text": [
      "\n"
     ]
    }
   ],
   "source": [
    "from sklearn.metrics import precision_score, recall_score, f1_score\n",
    "import numpy as np\n",
    "\n",
    "# Train the model for each batch\n",
    "batch_size = 15\n",
    "\n",
    "for i in tqdm(range(0, len(csv_files), batch_size)):\n",
    "    print(f\"Training Started on file number {i} to {i + batch_size - 1}\")\n",
    "    try:\n",
    "        (X_train, y_train), (X_test, y_test) = next(iter(dataloader))\n",
    "    except:\n",
    "        pass\n",
    "    history = model.fit(X_train, y_train, epochs=10, batch_size=64, validation_data=(X_test, y_test))\n",
    "\n",
    "    # After training, make predictions on the test set\n",
    "    y_pred = model.predict(X_test)\n",
    "\n",
    "    # Convert one-hot encoded labels back to class labels\n",
    "    y_true = np.argmax(y_test, axis=1)\n",
    "    y_pred = np.argmax(y_pred, axis=1)\n",
    "\n",
    "    # Calculate precision, recall, and F1-score\n",
    "    precision = precision_score(y_true, y_pred, average='weighted')\n",
    "    recall = recall_score(y_true, y_pred, average='weighted')\n",
    "    f1 = f1_score(y_true, y_pred, average='weighted')\n",
    "\n",
    "    print()\n",
    "    print(f\"Precision: {precision:.4f}, Recall: {recall:.4f}, F1-score: {f1:.4f}\")"
   ]
  },
  {
   "cell_type": "code",
   "execution_count": 14,
   "id": "b7393673",
   "metadata": {},
   "outputs": [
    {
     "name": "stdout",
     "output_type": "stream",
     "text": [
      "1344/1344 [==============================] - 4s 3ms/step - loss: 0.0164 - accuracy: 0.9978\n",
      "Test Loss: 0.016449518501758575\n",
      "Test Accuracy: 0.9978370070457458\n"
     ]
    }
   ],
   "source": [
    "# Evaluate the model on the test set\n",
    "\n",
    "loss, accuracy = model.evaluate(X_test, y_test)\n",
    "print(\"Test Loss:\", loss)\n",
    "print(\"Test Accuracy:\", accuracy)"
   ]
  },
  {
   "cell_type": "code",
   "execution_count": 15,
   "id": "6cb03539",
   "metadata": {},
   "outputs": [
    {
     "name": "stdout",
     "output_type": "stream",
     "text": [
      "5375/5375 [==============================] - 17s 3ms/step - loss: 0.0103 - accuracy: 0.9981\n",
      "Test Loss: 0.010268529877066612\n",
      "Test Accuracy: 0.9980928301811218\n"
     ]
    }
   ],
   "source": [
    "# Evaluate the model on the test set\n",
    "\n",
    "loss, accuracy = model.evaluate(X_train, y_train)\n",
    "print(\"Test Loss:\", loss)\n",
    "print(\"Test Accuracy:\", accuracy)"
   ]
  },
  {
   "cell_type": "code",
   "execution_count": 30,
   "id": "e3354d90",
   "metadata": {},
   "outputs": [
    {
     "data": {
      "image/png": "[encoded data removed]",
      "text/plain": [
       "<Figure size 640x480 with 1 Axes>"
      ]
     },
     "metadata": {},
     "output_type": "display_data"
    }
   ],
   "source": [
    "import matplotlib.pyplot as plt\n",
    "\n",
    "# summarize history for accuracy\n",
    "plt.plot(history.history['accuracy'])\n",
    "plt.plot(history.history['val_accuracy'])\n",
    "plt.title('model accuracy')\n",
    "plt.ylabel('accuracy')\n",
    "plt.xlabel('epoch')\n",
    "plt.ylim([0.996, 0.999]) # Set the y-axis range from 0.9 to 1.0 (90% to 100%)\n",
    "plt.legend(['Train', 'Validation'], loc='upper left')\n",
    "plt.show()"
   ]
  },
  {
   "cell_type": "code",
   "execution_count": 27,
   "id": "244fad60",
   "metadata": {},
   "outputs": [
    {
     "data": {
      "image/png": "[encoded data removed]",
      "text/plain": [
       "<Figure size 640x480 with 1 Axes>"
      ]
     },
     "metadata": {},
     "output_type": "display_data"
    }
   ],
   "source": [
    "# summarize history for loss\n",
    "plt.plot(history.history['loss'])\n",
    "plt.plot(history.history['val_loss'])\n",
    "plt.title('model loss')\n",
    "plt.ylabel('loss')\n",
    "plt.xlabel('epoch')\n",
    "plt.legend(['Train', 'Validation'], loc='upper left')\n",
    "plt.show()"
   ]
  },
  {
   "cell_type": "code",
   "execution_count": null,
   "id": "6c846bac",
   "metadata": {},
   "outputs": [],
   "source": []
  }
 ],
 "metadata": {
  "kernelspec": {
   "display_name": "Python 3 (ipykernel)",
   "language": "python",
   "name": "python3"
  },
  "language_info": {
   "codemirror_mode": {
    "name": "ipython",
    "version": 3
   },
   "file_extension": ".py",
   "mimetype": "text/x-python",
   "name": "python",
   "nbconvert_exporter": "python",
   "pygments_lexer": "ipython3",
   "version": "3.9.12"
  }
 },
 "nbformat": 4,
 "nbformat_minor": 5
}
